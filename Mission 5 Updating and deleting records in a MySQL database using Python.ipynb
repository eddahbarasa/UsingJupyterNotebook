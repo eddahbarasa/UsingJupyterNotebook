{
 "cells": [
  {
   "attachments": {},
   "cell_type": "markdown",
   "metadata": {},
   "source": [
    "## Updating and deleting records in a MySQL database using Python\n"
   ]
  },
  {
   "attachments": {},
   "cell_type": "markdown",
   "metadata": {},
   "source": [
    "Select the database `little_lemon` for use  "
   ]
  },
  {
   "cell_type": "code",
   "execution_count": 12,
   "metadata": {},
   "outputs": [
    {
     "data": {
      "text/plain": [
       "'little_lemon'"
      ]
     },
     "execution_count": 12,
     "metadata": {},
     "output_type": "execute_result"
    }
   ],
   "source": [
    "# Set the little_lemon database for use \n",
    "cursor.execute(\"use little_lemon\")\n",
    "\n",
    "# Confirm the database in use\n",
    "connection.database"
   ]
  },
  {
   "attachments": {},
   "cell_type": "markdown",
   "metadata": {},
   "source": [
    "## Exercise\n",
    "The restaurant needs to update the records of customers in their database. They also need to delete records related to menu items. "
   ]
  },
  {
   "attachments": {},
   "cell_type": "markdown",
   "metadata": {},
   "source": [
    "#### Task 1:\n",
    "\n",
    "The guest Diana Pinto booked a table for two. She was assigned a Booking ID of 6 and the table number 8. However, she just rang Little Lemon to request a change to her booking. She now needs a table for four guests. \n",
    "\n",
    "You need to update Diana’s booking to table 10 in Little Lemon’s MySQL database using Python.   "
   ]
  },
  {
   "cell_type": "code",
   "execution_count": 20,
   "metadata": {},
   "outputs": [
    {
     "name": "stdout",
     "output_type": "stream",
     "text": [
      "Diana's table number changed\n"
     ]
    }
   ],
   "source": [
    "# Changing guest Diana Pinto’s booking to table 10 \n",
    "update_diana = \"\"\"update Bookings set TableNo = 10 where GuestFirstName = \"Diana\" and GuestLastName = \"Pinto\";\"\"\"\n",
    "cursor.execute(update_diana)\n",
    "print(\"Diana's table number changed\")"
   ]
  },
  {
   "attachments": {},
   "cell_type": "markdown",
   "metadata": {},
   "source": [
    "#### Task 2: \n",
    "\n",
    "Little Lemon has encountered a conflict with two bookings. To resolve the conflict, you need to update the record for the guest Joakim Iversen, who has a Booking ID of 2.  \n",
    "\n",
    "Update Joakim’s booking in the MySQL database using Python as follows: \n",
    "\n",
    "* Change the guest’s table number to 11 \n",
    "* Change the `EmployeeID` of the guest’s waiter to 6 "
   ]
  },
  {
   "cell_type": "code",
   "execution_count": 21,
   "metadata": {},
   "outputs": [
    {
     "name": "stdout",
     "output_type": "stream",
     "text": [
      "Joakim's table number and waiter updated\n"
     ]
    }
   ],
   "source": [
    "# update Guest name Joakim's table number and Waiter\n",
    "update_joakim = \"\"\" update Bookings SET TableNo = 11, EmployeeID = 6 \n",
    "where GuestFirstName = \"Joakim\" and GuestLastName = \"Iversen\";\"\"\"\n",
    "cursor.execute(update_joakim)\n",
    "print(\"Joakim's table number and waiter updated\")"
   ]
  },
  {
   "attachments": {},
   "cell_type": "markdown",
   "metadata": {},
   "source": [
    "#### Task 3: \n",
    "\n",
    "Little Lemon restaurant didn’t receive their regular supply of ingredients today. This means that they can’t provide any Greek cuisine for their guests. They need to delete all Greek cuisine from their menu until the supply of ingredients is restored. \n",
    "\n"
   ]
  },
  {
   "cell_type": "code",
   "execution_count": 23,
   "metadata": {},
   "outputs": [
    {
     "name": "stdout",
     "output_type": "stream",
     "text": [
      "all greek cuisine deleted from menus table\n"
     ]
    }
   ],
   "source": [
    "# deleting all Greek cuisine from their Menu table\n",
    "delete_greek = \"\"\"delete from Menus where Cuisine = \"Greek\";\"\"\"\n",
    "cursor.execute(delete_greek)\n",
    "print(\"all greek cuisine deleted from menus table\")"
   ]
  }
 ],
 "metadata": {
  "interpreter": {
   "hash": "31f2aee4e71d21fbe5cf8b01ff0e069b9275f58929596ceb00d14d90e3e16cd6"
  },
  "kernelspec": {
   "display_name": "Python 3.8.10 64-bit",
   "name": "python3"
  },
  "language_info": {
   "codemirror_mode": {
    "name": "ipython",
    "version": 3
   },
   "file_extension": ".py",
   "mimetype": "text/x-python",
   "name": "python",
   "nbconvert_exporter": "python",
   "pygments_lexer": "ipython3",
   "version": "3.8.10"
  }
 },
 "nbformat": 4,
 "nbformat_minor": 4
}
