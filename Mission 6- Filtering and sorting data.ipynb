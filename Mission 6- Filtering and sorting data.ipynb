{
 "cells": [
  {
   "attachments": {},
   "cell_type": "markdown",
   "metadata": {},
   "source": [
    "## Mission 6:  Filtering and sorting data"
   ]
  },
  {
   "attachments": {},
   "cell_type": "markdown",
   "metadata": {},
   "source": [
    "## Exercise\n",
    "Little Lemon needs to filter and sort the data in their MySQL database using Python to complete the following tasks: \n",
    "\n",
    "* Determine which waiter is serving which guest \n",
    "* Identify all guests who paid a bill amount above a certain threshold \n",
    "* And list all starters above a certain price and order with the price. \n"
   ]
  },
  {
   "attachments": {},
   "cell_type": "markdown",
   "metadata": {},
   "source": [
    "#### Task 1: \n",
    "\n",
    "Little Lemon needs to know how many bookings they have today for table number 12. They also need to know the names of the guests booked for table 12 and who their servers are. \n",
    "\n",
    "Filtering the records for table 12 from the Bookings table. Show the required records for the following columns in the output: \n",
    "\n",
    "* `TableNo`\n",
    "* `GuestFirstName`\n",
    "* `GuestLastName`\n",
    "* `EmployeeID`"
   ]
  },
  {
   "cell_type": "code",
   "execution_count": 7,
   "metadata": {},
   "outputs": [
    {
     "name": "stdout",
     "output_type": "stream",
     "text": [
      "All bookings for Table 12\n",
      "('TableNo', 'GuestFirstName', 'GuestLastName', 'EmployeeID')\n",
      "(12, 'Anna', 'Iversen', 1)\n",
      "(12, 'Joakim', 'Iversen', 1)\n"
     ]
    }
   ],
   "source": [
    "# filtering records for table 12\n",
    "table12_bookings = \"\"\"select TableNo, GuestFirstName, GuestLastName,EmployeeID from Bookings where TableNo = 12;\"\"\"\n",
    "cursor.execute(table12_bookings)\n",
    "results = cursor.fetchall()\n",
    "col = cursor.column_names\n",
    "print (\"All bookings for Table 12\")\n",
    "print(col)\n",
    "for result in results:\n",
    "    print(result)\n"
   ]
  },
  {
   "attachments": {},
   "cell_type": "markdown",
   "metadata": {},
   "source": [
    "#### Task 2: \n",
    "\n",
    "Little lemon wants to send a coupon to all guests who spent more than $40 at the restaurant today.  \n",
    "\n",
    "Filter and sort the records of all quests who qualify for the coupon.   \n"
   ]
  },
  {
   "cell_type": "code",
   "execution_count": 8,
   "metadata": {},
   "outputs": [
    {
     "name": "stdout",
     "output_type": "stream",
     "text": [
      "The big spenders\n",
      "('BookingID', 'BillAmount')\n",
      "(1, 86)\n",
      "(5, 43)\n"
     ]
    }
   ],
   "source": [
    "# customers who spent more than $40\n",
    "big_spender = \"\"\"select BookingID,BillAmount from Orders where BillAmount > 40 Order by BillAmount DESC LIMIT 2;\"\"\"\n",
    "cursor.execute(big_spender)\n",
    "results = cursor.fetchall()\n",
    "columns = cursor.column_names\n",
    "print(\"The big spenders\")\n",
    "print(columns)\n",
    "for result in results:\n",
    "    print (result)\n"
   ]
  },
  {
   "attachments": {},
   "cell_type": "markdown",
   "metadata": {},
   "source": [
    "#### Task 3: \n",
    "Little lemon needs to determine what the most and least expensive starters and desserts on their menu items are. \n",
    "\n",
    "Filter the menu items and sorting them by price.  \n"
   ]
  },
  {
   "cell_type": "code",
   "execution_count": 9,
   "metadata": {},
   "outputs": [
    {
     "name": "stdout",
     "output_type": "stream",
     "text": [
      "Today's starters and Desserts\n",
      "('ItemID', 'Name', 'Type', 'Price')\n",
      "(1, 'Olives', 'Starters', 5)\n",
      "(2, 'Flatbread', 'Starters', 5)\n",
      "(6, 'Hummus', 'Starters', 5)\n",
      "(5, 'Falafel', 'Starters', 7)\n",
      "(3, 'Minestrone', 'Starters', 8)\n",
      "(4, 'Tomato bread', 'Starters', 8)\n"
     ]
    }
   ],
   "source": [
    "# price of today's starters and deserts\n",
    "starters_desserts = \"\"\"select * from MenuItems \n",
    "where (Type = \"Starters\" OR Type = \"Deserts\") order by Price ASC;\"\"\"\n",
    "cursor.execute(starters_desserts)\n",
    "results = cursor.fetchall()\n",
    "columns = cursor.column_names\n",
    "print(\"Today's starters and Desserts\")\n",
    "print(columns)\n",
    "for result in results:\n",
    "    print(result)"
   ]
  }
 ],
 "metadata": {
  "interpreter": {
   "hash": "31f2aee4e71d21fbe5cf8b01ff0e069b9275f58929596ceb00d14d90e3e16cd6"
  },
  "kernelspec": {
   "display_name": "Python 3.8.10 64-bit",
   "name": "python3"
  },
  "language_info": {
   "codemirror_mode": {
    "name": "ipython",
    "version": 3
   },
   "file_extension": ".py",
   "mimetype": "text/x-python",
   "name": "python",
   "nbconvert_exporter": "python",
   "pygments_lexer": "ipython3",
   "version": "3.8.10"
  }
 },
 "nbformat": 4,
 "nbformat_minor": 4
}
