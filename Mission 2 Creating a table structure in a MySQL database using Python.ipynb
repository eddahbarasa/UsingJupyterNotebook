{
 "cells": [
  {
   "cell_type": "markdown",
   "source": [
    "## Create Your Table Structure\n"
   ],
   "metadata": {}
  },
  {
   "cell_type": "markdown",
   "source": [
    "## Generic guidelines:    \n",
    "\n",
    "Refer to the [Exercise](https://www.coursera.org/learn/database-clients/supplement/0oDtw/working-with-labs-in-this-course) for guidance on viewing your code, instructions related to the Jupyter notebook environment, as well as how to access the MySQL database in it.  \n",
    "  \n",
    "## Prerequisites \n",
    "\n",
    "To complete this exercise, you must have access to the MySQL database. As an authorized user, you need to establish a connection between Python and MySQL via the connector API and create a “cursor” object using the following code: "
   ],
   "metadata": {}
  },
  {
   "cell_type": "code",
   "execution_count": 8,
   "source": [
    "#install connector api using the command below.\n",
    "!pip install mysql-connector-python\n",
    "\n"
   ],
   "outputs": [
    {
     "output_type": "stream",
     "name": "stdout",
     "text": [
      "Collecting mysql-connector-python\n",
      "  Downloading mysql_connector_python-8.0.32-cp38-cp38-manylinux1_x86_64.whl (23.5 MB)\n",
      "\u001b[K     |████████████████████████████████| 23.5 MB 29.9 MB/s \n",
      "\u001b[?25hCollecting protobuf<=3.20.3,>=3.11.0\n",
      "  Downloading protobuf-3.20.3-cp38-cp38-manylinux_2_5_x86_64.manylinux1_x86_64.whl (1.0 MB)\n",
      "\u001b[K     |████████████████████████████████| 1.0 MB 129.0 MB/s \n",
      "\u001b[?25hInstalling collected packages: protobuf, mysql-connector-python\n",
      "Successfully installed mysql-connector-python-8.0.32 protobuf-3.20.3\n"
     ]
    }
   ],
   "metadata": {}
  },
  {
   "cell_type": "code",
   "execution_count": 9,
   "source": [
    "# Import the MySQL Connector/Python\n",
    "import mysql.connector as connector"
   ],
   "outputs": [],
   "metadata": {}
  },
  {
   "cell_type": "code",
   "execution_count": 3,
   "source": [
    "#!pip show mysql-connector-python"
   ],
   "outputs": [],
   "metadata": {}
  },
  {
   "cell_type": "markdown",
   "source": [
    "Once the connection is established and you have a cursor object, you can carry out the required tasks. "
   ],
   "metadata": {}
  },
  {
   "cell_type": "code",
   "execution_count": 10,
   "source": [
    "# Establish connection between Python and MySQL database via connector API\n",
    "connection = connector.connect(\n",
    "                             user=\"root\", # use your own\n",
    "                             password=\"\", # use your own\n",
    "                            )"
   ],
   "outputs": [],
   "metadata": {}
  },
  {
   "cell_type": "code",
   "execution_count": 11,
   "source": [
    "# Create a cursor object to communicate with entire MySQL database\n",
    "cursor = connection.cursor()"
   ],
   "outputs": [],
   "metadata": {}
  },
  {
   "cell_type": "markdown",
   "source": [
    "## Scenario \n",
    "\n",
    "Little Lemon needs a Python-based application in which they can organize their data within different tables in a MySQL database.  \n",
    "\n",
    "First, they need to create their database. Then they need to create the database’s tables.  \n",
    "\n",
    "The list of tables they need to create are as follows: \n",
    "\n",
    "* A table called Menu that stores menu data \n",
    "* A table called MenuItems that stores data on menu items \n",
    "* A table called Orders that stores data on customer orders \n",
    "* And a table called Bookings that stores data on customer bookings \n",
    "\n",
    "Complete the tasks that follow to help Little Lemon create the database and the tables. "
   ],
   "metadata": {}
  },
  {
   "cell_type": "markdown",
   "source": [
    "## Task 1:\n",
    "Little Lemon need to create a database that can hold their tables. Create a MySQL database for Little Lemon using Python. You can call the database “little_lemon”. \n",
    "You also need to confirm that the database has been successfully created by executing the `“SHOW DATABASE”` query. \n",
    "\n",
    "**Tip:** If a database with the same name already exists, then you’ll receive an error confirming its existence. Otherwise, your code will be executed with no output. "
   ],
   "metadata": {}
  },
  {
   "cell_type": "code",
   "execution_count": 19,
   "source": [
    "import mysql.connector as connector\n",
    "connection = connector.connect(user = \"root\", password =\"\")\n",
    "cursor = connection.cursor()\n",
    "cursor.execute(\"drop database little_lemon\")\n",
    "create_database_query = \"\"\"CREATE DATABASE little_lemon\"\"\"\n",
    "cursor.execute (create_database_query)\n",
    "show_db = \"\"\"show databases\"\"\"\n",
    "cursor.execute(show_db)\n",
    "for database in cursor:\n",
    "    print(database)"
   ],
   "outputs": [
    {
     "output_type": "stream",
     "name": "stdout",
     "text": [
      "('information_schema',)\n",
      "('little_lemon',)\n",
      "('mysql',)\n",
      "('performance_schema',)\n",
      "('sys',)\n"
     ]
    }
   ],
   "metadata": {}
  },
  {
   "cell_type": "markdown",
   "source": [
    "## Task 2:\n",
    "Set the newly created database `“little_lemon”` for use. Confirm that the database is available for use by using `connection.database`. \n",
    "\n",
    "**Tip:** If the `“little_lemon”` database already exists, then the code in your jupyter notebook cell should execute without any error."
   ],
   "metadata": {}
  },
  {
   "cell_type": "code",
   "execution_count": 20,
   "source": [
    "# setting little_lemon for use\n",
    "cursor.execute(\"USE little_lemon\")\n",
    "connection.database"
   ],
   "outputs": [
    {
     "output_type": "execute_result",
     "data": {
      "text/plain": [
       "'little_lemon'"
      ]
     },
     "metadata": {},
     "execution_count": 20
    }
   ],
   "metadata": {}
  },
  {
   "cell_type": "markdown",
   "source": [
    "## Creating tables "
   ],
   "metadata": {}
  },
  {
   "cell_type": "markdown",
   "source": [
    "## Task 3:\n",
    "\n",
    "Create a `“MenuItems”` table using the following SQL query as a Python string:\n",
    "```Python\n",
    "create_menuitem_table = \"\"\"CREATE TABLE MenuItems (\n",
    "ItemID INT AUTO_INCREMENT,\n",
    "Name VARCHAR(200),\n",
    "Type VARCHAR(100),\n",
    "Price INT,\n",
    "PRIMARY KEY (ItemID)\n",
    ");\"\"\"\n",
    "```\n",
    "Once you have executed the query, use the `“SHOW TABLES”` command to confirm that the table has been created.\n",
    "\n",
    "**Tip:** The code will run in the jupyter notebook with no error if your SQL query is correct, and the table does not exist. "
   ],
   "metadata": {}
  },
  {
   "cell_type": "code",
   "execution_count": 30,
   "source": [
    "# creating MenuItems table \n",
    "menu_items = \"\"\" CREATE TABLE MenuItems ( ItemID INT AUTO_INCREMENT, Name VARCHAR(200), Type VARCHAR(100),\n",
    "Price INT, PRIMARY KEY (ItemID));\"\"\"\n",
    "cursor.execute(menu_items)\n",
    "cursor.execute(\"SHOW TABLES\")\n",
    "for table in cursor:\n",
    "    print(table)"
   ],
   "outputs": [
    {
     "output_type": "stream",
     "name": "stdout",
     "text": [
      "('MenuItems',)\n",
      "('Menus',)\n"
     ]
    }
   ],
   "metadata": {}
  },
  {
   "cell_type": "markdown",
   "source": [
    "## Task 4: \n",
    "\n",
    "Create the `“Menus”` table to store data on menus using the following SQL query as a Python string.\n",
    "```Python\n",
    "create_menu_table = \"\"\"CREATE TABLE Menus (\n",
    "MenuID INT,\n",
    "ItemID INT,\n",
    "Cuisine VARCHAR(100),\n",
    "PRIMARY KEY (MenuID,ItemID)\n",
    ");\"\"\"\n",
    "```\n",
    "Once you have executed the query, use the `SHOW TABLES` command to confirm that the table has been created. \n",
    "\n",
    "**Tip:** The code will run in the jupyter notebook with no error if your SQL query is correct, and the table does not exist. "
   ],
   "metadata": {}
  },
  {
   "cell_type": "code",
   "execution_count": 29,
   "source": [
    "# creating Menus table\n",
    "menus_table =\"\"\" create table Menus (MenuID INT, ItemID INT,  Cuisine VARCHAR(100),\n",
    "PRIMARY KEY (MenuID,ItemID));\"\"\"\n",
    "cursor.execute(menus_table)\n",
    "\n",
    "cursor.execute(\"SHOW TABLES\")\n",
    "for table in cursor:\n",
    "    print(table)"
   ],
   "outputs": [
    {
     "output_type": "stream",
     "name": "stdout",
     "text": [
      "('Menus',)\n"
     ]
    }
   ],
   "metadata": {}
  },
  {
   "cell_type": "markdown",
   "source": [
    "## Task 5: \n",
    "\n",
    "Create the “Bookings” table to store data on customer bookings using the following SQL query as a Python string:\n",
    "\n",
    "```Python\n",
    "Create_booking_table = \"\"\"CREATE TABLE Bookings (\n",
    "BookingID INT AUTO_INCREMENT,\n",
    "TableNo INT,\n",
    "GuestFirstName VARCHAR(100) NOT NULL,\n",
    "GuestLastName VARCHAR(100) NOT NULL,\n",
    "BookingSlot TIME NOT NULL,\n",
    "EmployeeID INT,\n",
    "PRIMARY KEY (BookingID)\n",
    ");\"\"\"\n",
    "```\n",
    "Once you have executed the query, use the `“SHOW TABLES”` command to confirm that the table has been created.\n",
    "\n",
    "**Tip:** The code will run in the jupyter notebook with no error if your SQL query is correct, and the table does not exist. "
   ],
   "metadata": {}
  },
  {
   "cell_type": "code",
   "execution_count": 31,
   "source": [
    "# creating Bookings Table\n",
    "bookings_table = \"\"\" create table Bookings (BookingID INT AUTO_INCREMENT, TableNo INT,\n",
    "GuestFirstName VARCHAR(100) NOT NULL, GuestLastName VARCHAR(100) NOT NULL, BookingSlot TIME NOT NULL,\n",
    "EmployeeID INT, PRIMARY KEY (BookingID));\"\"\"\n",
    "cursor.execute(bookings_table)\n",
    "cursor.execute(\"SHOW TABLES\")\n",
    "for table in cursor:\n",
    "    print(table)"
   ],
   "outputs": [
    {
     "output_type": "stream",
     "name": "stdout",
     "text": [
      "('Bookings',)\n",
      "('MenuItems',)\n",
      "('Menus',)\n"
     ]
    }
   ],
   "metadata": {}
  },
  {
   "cell_type": "markdown",
   "source": [
    "## Task 6: \n",
    "\n",
    "Create an “Orders” table to store data on customer orders using the following SQL query as a Python string:\n",
    "```Python\n",
    "create_orders_table = \"\"\"CREATE TABLE Orders (\n",
    "OrderID INT,\n",
    "TableNo INT,\n",
    "MenuID INT,\n",
    "BookingID INT,\n",
    "BillAmount INT,\n",
    "Quantity INT,\n",
    "PRIMARY KEY (OrderID,TableNo)\n",
    ");\"\"\"\n",
    "```\n",
    "\n",
    "Once you have executed the code, use the SHOW TABLES command to confirm that the table has been created. \n",
    "\n",
    "**Tip:** The code will run in the jupyter notebook with no error if your sql query is correct, and the table does not exist"
   ],
   "metadata": {}
  },
  {
   "cell_type": "code",
   "execution_count": 33,
   "source": [
    "# creating Orders table\n",
    "orders_table = \"\"\" CREATE TABLE Orders (OrderID INT, TableNo INT, MenuID INT,\n",
    "BookingID INT, BillAmount INT, Quantity INT, PRIMARY KEY (OrderID,TableNo));\"\"\"\n",
    "cursor.execute(orders_table)\n",
    "cursor.execute(\"SHOW TABLES\")\n",
    "for table in cursor:\n",
    "    print(table)"
   ],
   "outputs": [
    {
     "output_type": "stream",
     "name": "stdout",
     "text": [
      "('Bookings',)\n",
      "('MenuItems',)\n",
      "('Menus',)\n",
      "('Orders',)\n"
     ]
    }
   ],
   "metadata": {}
  }
 ],
 "metadata": {
  "kernelspec": {
   "name": "python3",
   "display_name": "Python 3.8.10 64-bit"
  },
  "language_info": {
   "codemirror_mode": {
    "name": "ipython",
    "version": 3
   },
   "file_extension": ".py",
   "mimetype": "text/x-python",
   "name": "python",
   "nbconvert_exporter": "python",
   "pygments_lexer": "ipython3",
   "version": "3.8.10"
  },
  "interpreter": {
   "hash": "31f2aee4e71d21fbe5cf8b01ff0e069b9275f58929596ceb00d14d90e3e16cd6"
  }
 },
 "nbformat": 4,
 "nbformat_minor": 4
}
