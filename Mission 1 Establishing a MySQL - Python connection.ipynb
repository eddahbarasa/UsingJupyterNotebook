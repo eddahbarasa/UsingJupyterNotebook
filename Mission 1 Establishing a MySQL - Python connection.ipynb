{
 "cells": [
  {
   "attachments": {},
   "cell_type": "markdown",
   "metadata": {},
   "source": [
    "## Mission 1 - Establishing a MySQL - Python connection\n"
   ]
  },
  {
   "attachments": {},
   "cell_type": "markdown",
   "metadata": {},
   "source": [
    "## Exercise:\n",
    "\n",
    "Little Lemon is developing a Python-based application that needs to use MySQL in the back end so that they can store day-to-day data on bookings, orders and menus in their database’s respective tables.  They have all the required components installed to store the data. Establish a connection between Python and the MySQL server so that they can access and communicate with the database using Python. \n",
    "\n",
    "To complete this exercise, you need to install Python and MySQL databases. Then install `MySQL Connector/Python` client or API on your Python environment. "
   ]
  },
  {
   "cell_type": "code",
   "execution_count": 1,
   "metadata": {},
   "outputs": [
    {
     "name": "stdout",
     "output_type": "stream",
     "text": [
      "Collecting mysql-connector-python\n",
      "  Downloading mysql_connector_python-8.0.32-cp38-cp38-manylinux1_x86_64.whl (23.5 MB)\n",
      "\u001b[K     |████████████████████████████████| 23.5 MB 32.8 MB/s \n",
      "\u001b[?25hCollecting protobuf<=3.20.3,>=3.11.0\n",
      "  Downloading protobuf-3.20.3-cp38-cp38-manylinux_2_5_x86_64.manylinux1_x86_64.whl (1.0 MB)\n",
      "\u001b[K     |████████████████████████████████| 1.0 MB 127.4 MB/s \n",
      "\u001b[?25hInstalling collected packages: protobuf, mysql-connector-python\n",
      "Successfully installed mysql-connector-python-8.0.32 protobuf-3.20.3\n"
     ]
    }
   ],
   "source": [
    "#installing mysql-connector-python package using pip\n",
    "!pip install mysql-connector-python"
   ]
  },
  {
   "attachments": {},
   "cell_type": "markdown",
   "metadata": {},
   "source": [
    "#### Task 1:\n",
    "\n",
    "\n",
    "Establish a connection to the MySQL database using Python, via MySQL Connector/Python API so that they we access data according to business needs.  \n",
    "\n",
    "Steps: \n",
    "\n",
    "* 1: Import the appropriate MySQL connector library using the alias connector \n",
    "\n",
    "* 2: Next, create a variable called connection and use it to store an instance of the connection made with the database using the connector module. \n",
    " "
   ]
  },
  {
   "cell_type": "code",
   "execution_count": 3,
   "metadata": {},
   "outputs": [
    {
     "name": "stdout",
     "output_type": "stream",
     "text": [
      "connection made\n"
     ]
    }
   ],
   "source": [
    "import mysql.connector as connector\n",
    "connection = connector.connect(user=\"root\",password=\"\")\n",
    "print(\"connection made\")"
   ]
  },
  {
   "attachments": {},
   "cell_type": "markdown",
   "metadata": {},
   "source": [
    "#### Task 2:\n",
    "\n",
    "Little Lemon is interested in writing clean safe code and wants to ensure that there are no connection issues when connecting with MySQL database. To do this they want to use Python’s try/except blocks.\n",
    "* 1: As above import an instance of MySQL connector using the alias connector.  \n",
    "* 2: Open a try block and place the appropriate connection code there  \n"
   ]
  },
  {
   "cell_type": "code",
   "execution_count": 4,
   "metadata": {},
   "outputs": [
    {
     "name": "stdout",
     "output_type": "stream",
     "text": [
      "There was a problem connecting to the database. Please check your username or the password\n"
     ]
    }
   ],
   "source": [
    "import mysql.connector as connector\n",
    "from mysql.connector import errorcode\n",
    "\n",
    "try:\n",
    "    connection = connector.connect(user=\"rot\",password = \"\")\n",
    "except:\n",
    "    print(\"There was a problem connecting to the database. Please check your username or the password\") "
   ]
  },
  {
   "attachments": {},
   "cell_type": "markdown",
   "metadata": {},
   "source": [
    "#### Task 3:\n",
    "\n",
    "Little lemon wants to know the reason for any issues that might occur when connecting to the database. Help them to retrieve the error code along with the error message in the following situations:  \n",
    "\n",
    "* The database does not exist \n",
    "* Wrong Username or the password \n",
    "\n",
    "Steps to achieve this   \n",
    "* First import an instance of MySQL connector using the alias connector  \n",
    "* Open a try block and place the appropriate connection code there. \n"
   ]
  },
  {
   "cell_type": "code",
   "execution_count": 7,
   "metadata": {},
   "outputs": [
    {
     "name": "stdout",
     "output_type": "stream",
     "text": [
      "Error code: 1045\n",
      "Error message: Access denied for user 'rot'@'127.0.0.1' (using password: NO)\n"
     ]
    }
   ],
   "source": [
    "import mysql.connector as connector\n",
    "from mysql.connector import errorcode\n",
    "try:\n",
    "    connection = connector.connect (user=\"rot\",password=\"\")\n",
    "except connector.Error as er:\n",
    "    print(\"Error code:\", er.errno)\n",
    "    print(\"Error message:\", er.msg)"
   ]
  },
  {
   "cell_type": "code",
   "execution_count": null,
   "metadata": {},
   "outputs": [
    {
     "name": "stdout",
     "output_type": "stream",
     "text": [
      "MySQL connection is closed.\n"
     ]
    }
   ],
   "source": [
    "if connection.is_connected():\n",
    "    connection.close()\n",
    "    print (\"MySQL connection is closed.\")\n",
    "else:\n",
    "    print(\"MySql connection is already closed.\")"
   ]
  }
 ],
 "metadata": {
  "interpreter": {
   "hash": "31f2aee4e71d21fbe5cf8b01ff0e069b9275f58929596ceb00d14d90e3e16cd6"
  },
  "kernelspec": {
   "display_name": "Python 3.8.10 64-bit",
   "name": "python3"
  },
  "language_info": {
   "codemirror_mode": {
    "name": "ipython",
    "version": 3
   },
   "file_extension": ".py",
   "mimetype": "text/x-python",
   "name": "python",
   "nbconvert_exporter": "python",
   "pygments_lexer": "ipython3",
   "version": "3.8.10"
  }
 },
 "nbformat": 4,
 "nbformat_minor": 4
}
