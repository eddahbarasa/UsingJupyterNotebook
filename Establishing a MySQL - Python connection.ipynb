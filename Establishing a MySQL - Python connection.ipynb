{
 "cells": [
  {
   "cell_type": "markdown",
   "source": [
    "## C6M1L2 Item 08 - Making your connection\n"
   ],
   "metadata": {}
  },
  {
   "cell_type": "markdown",
   "source": [
    "## Generic guidelines: \n",
    "\n",
    "Refer to the [Exercise](https://www.coursera.org/learn/database-clients/supplement/0oDtw/working-with-labs-in-this-course) for guidance on viewing your code, instructions related to the Jupyter notebook environment, as well as how to access the MySQL database in it.  \n",
    "\n",
    " \n",
    "\n",
    "## Prerequisites: \n",
    "\n",
    "To complete this lab, you need to install Python and MySQL databases. Then install `MySQL Connector/Python` client or API on your Python environment. Follow the instructions in previous videos on “installation and setup” to install the required packages or software.  \n",
    "\n",
    "To work with MySQL using Python, you must have an authorized user account on the MySQL server.  \n",
    "\n",
    " \n",
    "\n",
    "## Scenario:\n",
    "\n",
    "Little Lemon is developing a Python-based application that needs to use MySQL in the back end so that they can store day-to-day data on bookings, orders and menus in their database’s respective tables.  They have all the required components installed to store the data. However, they need help to establish a connection between Python and the MySQL server so that they can access and communicate with the database using Python. \n",
    "\n",
    "You are tasked to help Little Lemon to accomplish its business goals by establishing a secure connection to the MySQL database using Python.  "
   ],
   "metadata": {}
  },
  {
   "cell_type": "markdown",
   "source": [
    "Note: Need to install mysql-connector-python package to run your code. "
   ],
   "metadata": {}
  },
  {
   "cell_type": "code",
   "execution_count": 1,
   "source": [
    "!pip install mysql-connector-python"
   ],
   "outputs": [
    {
     "output_type": "stream",
     "name": "stdout",
     "text": [
      "Collecting mysql-connector-python\n",
      "  Downloading mysql_connector_python-8.0.31-cp38-cp38-manylinux1_x86_64.whl (23.5 MB)\n",
      "\u001b[K     |████████████████████████████████| 23.5 MB 70.4 MB/s \n",
      "\u001b[?25hCollecting protobuf<=3.20.1,>=3.11.0\n",
      "  Downloading protobuf-3.20.1-cp38-cp38-manylinux_2_5_x86_64.manylinux1_x86_64.whl (1.0 MB)\n",
      "\u001b[K     |████████████████████████████████| 1.0 MB 122.3 MB/s \n",
      "\u001b[?25hInstalling collected packages: protobuf, mysql-connector-python\n",
      "Successfully installed mysql-connector-python-8.0.31 protobuf-3.20.1\n"
     ]
    }
   ],
   "metadata": {}
  },
  {
   "cell_type": "markdown",
   "source": [
    "## Task 1:\n",
    "\n",
    "\n",
    "Help Little Lemon in establishing a connection to their MySQL database using Python, via MySQL Connector/Python API so that they can access data according to their business needs.  \n",
    "\n",
    "To achieve this task please fill in the following steps: \n",
    "\n",
    "* 1: import the appropriate MySQL connector library using the alias connector \n",
    "\n",
    "* 2: Next, create a variable called connection and use it to store an instance of the connection made with the database using the connector module. This module uses a method called connect() and you should provide the relevant connection details.  \n",
    "\n",
    " \n",
    "\n",
    "**TIP:** You need to have an authenticated username and password to establish the connection. If you don’t see any error in the output while establishing the connection, your connection is successfully established. "
   ],
   "metadata": {}
  },
  {
   "cell_type": "code",
   "execution_count": 2,
   "source": [
    "import mysql.connector as connector\n",
    "connection = connector.connect(user=\"root\",password=\"\")"
   ],
   "outputs": [],
   "metadata": {}
  },
  {
   "cell_type": "markdown",
   "source": [
    "## Task 2:\n",
    "\n",
    "Little Lemon is interested in writing clean safe code and wants to ensure that there are no connection issues when connecting with MySQL database. They have heard of Python’s try/except blocks and are interested in incorporating them into their own code.   \n",
    "\n",
    "* 1: As above import an instance of MySQL connector using the alias connector.  \n",
    "* 2: Open a try block and place the appropriate connection code there  \n",
    "\n",
    "```Python \n",
    "try: \n",
    "```\n",
    "         // using connector.connect() make your database connection.  \n",
    "\n",
    " \n",
    "\n",
    "* 3: Now fill in the code for when an error occurs. What is an appropriate message to display on the screen? \n",
    "\n",
    " \n",
    "```Python\n",
    "except: \n",
    "```\n",
    "        // print a meaningful message if the connection has an issue with the `username` or `password`\t \n",
    " \n",
    "\n",
    "**TIP:** Test your set-up by purposefully entering an incorrect user or password and see if you get the following message:  \n",
    "\n",
    "```Python\n",
    "There was a problem connecting to the MySQL server.  \n",
    "Please check the username or password.  \n",
    "```\n"
   ],
   "metadata": {}
  },
  {
   "cell_type": "code",
   "execution_count": 3,
   "source": [
    "import mysql.connector as connector\n",
    "from mysql.connector import errorcode\n",
    "\n",
    "try:\n",
    "    connection = connector.connect(user=\"rot\",password = \"\")\n",
    "except:\n",
    "    print(\"There was a problem connecting to the database. Please check your username or the password\") "
   ],
   "outputs": [
    {
     "output_type": "stream",
     "name": "stdout",
     "text": [
      "There was a problem connecting to the database. Please check your username or the password\n"
     ]
    }
   ],
   "metadata": {}
  },
  {
   "cell_type": "markdown",
   "source": [],
   "metadata": {}
  },
  {
   "cell_type": "markdown",
   "source": [
    "## Task 3:\n",
    "\n",
    "Little lemon wants to know the reason for any issues that might occur when connecting to the database. Help them to retrieve the error code along with the error message in the following situations:  \n",
    "\n",
    "* The database does not exist \n",
    "* Wrong Username or the password \n",
    "\n",
    "To achieve this please you can use the following steps.  \n",
    "* 1: First import an instance of MySQL connector using the alias connector  \n",
    "\n",
    "* 2: Open a try block and place the appropriate connection code there. \n",
    "\n",
    "```Python\n",
    "try: \n",
    "```    \n",
    "\n",
    "        // using connector.connect() make your database connection.  \n",
    "\n",
    "\n",
    "* 3: Finally, fill in the code for when an error occurs. In the previous task, you used the print statement to output a custom error message. Now, improve your approach by using connector’s error exception in the except block.  \n",
    "\n",
    "```Python\n",
    "except connector.?() as er: \n",
    "```\n",
    "\n",
    "        // print(“Error code: “, er.?) \n",
    "        // print( (“Error message: “, er.?) \n",
    "\n",
    "**TIP:** Use the “Error” class from “mysql.connector” to get the error code and the message. Use try-except from Python for implementation."
   ],
   "metadata": {}
  },
  {
   "cell_type": "code",
   "execution_count": 8,
   "source": [
    "if connection.is_connected():\n",
    "    connection.close()\n",
    "    print (\"MySQL connection is closed.\")\n",
    "else:\n",
    "    print(\"MySql connection is already closed.\")"
   ],
   "outputs": [
    {
     "output_type": "stream",
     "name": "stdout",
     "text": [
      "MySQL connection is closed.\n"
     ]
    }
   ],
   "metadata": {}
  },
  {
   "cell_type": "code",
   "execution_count": 7,
   "source": [
    "import mysql.connector as connector\n",
    "from mysql.connector import errorcode\n",
    "try:\n",
    "    connection = connector.connect (user=\"rot\",password=\"\")\n",
    "except connector.Error as er:\n",
    "    print(\"Error code:\", er.errno)\n",
    "    print(\"Error message:\", er.msg)"
   ],
   "outputs": [
    {
     "output_type": "stream",
     "name": "stdout",
     "text": [
      "Error code: 1045\n",
      "Error message: Access denied for user 'rot'@'127.0.0.1' (using password: NO)\n"
     ]
    }
   ],
   "metadata": {}
  }
 ],
 "metadata": {
  "kernelspec": {
   "name": "python3",
   "display_name": "Python 3.8.10 64-bit"
  },
  "language_info": {
   "codemirror_mode": {
    "name": "ipython",
    "version": 3
   },
   "file_extension": ".py",
   "mimetype": "text/x-python",
   "name": "python",
   "nbconvert_exporter": "python",
   "pygments_lexer": "ipython3",
   "version": "3.8.10"
  },
  "interpreter": {
   "hash": "31f2aee4e71d21fbe5cf8b01ff0e069b9275f58929596ceb00d14d90e3e16cd6"
  }
 },
 "nbformat": 4,
 "nbformat_minor": 4
}