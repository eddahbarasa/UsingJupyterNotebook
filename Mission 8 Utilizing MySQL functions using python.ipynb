{
 "cells": [
  {
   "attachments": {},
   "cell_type": "markdown",
   "metadata": {},
   "source": [
    "## Mission 8 Utilizing MySQL functions using python \n"
   ]
  },
  {
   "attachments": {},
   "cell_type": "markdown",
   "metadata": {},
   "source": [
    "Establish connection, create a cursor object, then select the database `little_lemon` \n",
    "\n",
    "Work with the respective table to accomplish the required tasks.  "
   ]
  },
  {
   "cell_type": "code",
   "execution_count": 9,
   "metadata": {},
   "outputs": [
    {
     "name": "stdout",
     "output_type": "stream",
     "text": [
      "Database in use is little_lemon\n"
     ]
    }
   ],
   "source": [
    "# Set little_lemon for use \n",
    "cursor.execute(\"use little_lemon\")\n",
    "\n",
    "# Confirming\n",
    "print(\"Database in use is\", connection.database)"
   ]
  },
  {
   "attachments": {},
   "cell_type": "markdown",
   "metadata": {},
   "source": [
    "## Exercise: \n",
    "\n",
    "There are several occasions where Little Lemon needs to perform routine operations, some of them include, total sales, the total number of guests, the number of items in each cuisine, the full name of the guests, and so on. Writing queries again and again for such routine tasks is not trivial. \n",
    "Help Little Lemon handle such tasks using MySQL functions in their python-based application. "
   ]
  },
  {
   "attachments": {},
   "cell_type": "markdown",
   "metadata": {},
   "source": [
    "#### Task 1:\n",
    "\n",
    "Along with the booking ID, little lemon needs to add the full name of the guests in upper case on their invoices. Help little lemon to extract the data in the required format. "
   ]
  },
  {
   "cell_type": "code",
   "execution_count": 11,
   "metadata": {},
   "outputs": [
    {
     "name": "stdout",
     "output_type": "stream",
     "text": [
      "Booking IDs and Guest Names for invoicing\n",
      "('ID', 'GuestFullName')\n",
      "(1, 'ANNA IVERSEN')\n",
      "(2, 'JOAKIM IVERSEN')\n",
      "(3, 'VANESSA MCCARTHY')\n",
      "(4, 'MARCOS ROMERO')\n",
      "(5, 'HIROKI YAMANE')\n",
      "(6, 'DIANA PINTO')\n"
     ]
    }
   ],
   "source": [
    "# string function on python\n",
    "invoice_query = \"\"\"select BookingID as ID, concat(upper(GuestFirstName),\" \" ,upper(GuestLastName)) as GuestFullName\n",
    "from Bookings;\"\"\"\n",
    "cursor.execute(invoice_query)\n",
    "results = cursor.fetchall()\n",
    "print(\"Booking IDs and Guest Names for invoicing\")\n",
    "print(cursor.column_names)\n",
    "for result in results:\n",
    "    print(result)\n"
   ]
  },
  {
   "attachments": {},
   "cell_type": "markdown",
   "metadata": {},
   "source": [
    "#### Task 2::\n",
    "\n",
    "Little lemon needs to know the following statistics at closing: \n",
    "\n",
    "* Number of bookings \n",
    "* Total sale \n",
    "* Average sale \n",
    "\n",
    "Target “BookingID” and “BillAmount” columns in the “Orders” table and use MySQL built-in functions to compute the required statistics. "
   ]
  },
  {
   "cell_type": "code",
   "execution_count": 14,
   "metadata": {},
   "outputs": [
    {
     "name": "stdout",
     "output_type": "stream",
     "text": [
      "Today's Stats\n",
      "Number of bookings:  5\n",
      "Total sales:  243\n",
      "Average sales:  48.6000\n"
     ]
    }
   ],
   "source": [
    "# numeric function on python\n",
    "todays_stats = \"\"\"select count(BookingID), SUM(BillAmount),avg(BillAmount) from Orders;\"\"\"\n",
    "cursor.execute(todays_stats)\n",
    "results= cursor.fetchall()\n",
    "print (\"Today's Stats\")\n",
    "for result in results:\n",
    "    print(\"Number of bookings: \", result [0])\n",
    "    print (\"Total sales: \", result[1])\n",
    "    print (\"Average sales: \", result[2])\n"
   ]
  },
  {
   "attachments": {},
   "cell_type": "markdown",
   "metadata": {},
   "source": [
    "#### Task 3:\n",
    "\n",
    "Little lemon needs to know the number of bookings for each table. Please help them to print the table number and the number of bookings for each table.  \n",
    "\n",
    "Target `TableNo` column in the booking table, count the number of bookings for each table, and group the data. "
   ]
  },
  {
   "cell_type": "code",
   "execution_count": 15,
   "metadata": {},
   "outputs": [
    {
     "name": "stdout",
     "output_type": "stream",
     "text": [
      "Number of bookings per Table\n",
      "('Table Number', 'Number of Bookings')\n",
      "(12, 2)\n",
      "(19, 1)\n",
      "(15, 1)\n",
      "(5, 1)\n",
      "(8, 1)\n"
     ]
    }
   ],
   "source": [
    "# number of bookings per table\n",
    "n_bookings = \"\"\"select TableNo as \"Table Number\", count(BookingID) as \"Number of Bookings\" from Bookings \n",
    "group by TableNo;\"\"\"\n",
    "cursor.execute(n_bookings)\n",
    "results= cursor.fetchall()\n",
    "print(\"Number of bookings per Table\")\n",
    "print(cursor.column_names)\n",
    "for result in results:\n",
    "    print (result)"
   ]
  },
  {
   "attachments": {},
   "cell_type": "markdown",
   "metadata": {},
   "source": [
    "#### Task 4:\n",
    "\n",
    "Little lemon wants to create three arrival slots for the guests based on the booking hour: \n",
    "\n",
    "* Late afternoon: for hours 15 and 16  \n",
    "* Evening: for hours 17 and 18 \n",
    "* Night: for hours 19 and 20 \n",
    "\n",
    "Display the booking ID, guest name, and arrival slot on the kitchen screen so that the staff can plan accordingly.  \n",
    "Use the MySQL `CASE` function and create `Arrival_slot` for each guest.  "
   ]
  },
  {
   "cell_type": "code",
   "execution_count": 32,
   "metadata": {},
   "outputs": [
    {
     "name": "stdout",
     "output_type": "stream",
     "text": [
      "('BookingID', 'Guest_Name', 'Arrival_slot')\n",
      "(1, 'Anna Iversen', 'Night')\n",
      "(2, 'Joakim Iversen', 'Night')\n",
      "(3, 'Vanessa McCarthy', 'Late afternoon')\n",
      "(4, 'Marcos Romero', 'Evening')\n",
      "(5, 'Hiroki Yamane', 'Evening')\n",
      "(6, 'Diana Pinto', 'Night')\n"
     ]
    }
   ],
   "source": [
    "# working with datetime function \n",
    "create_bookings = \"\"\"SELECT BookingID, CONCAT(GuestFirstName,' ',GuestLastName) AS Guest_Name,\n",
    "CASE\n",
    "WHEN HOUR(BookingSlot) IN (15,16) THEN \"Late afternoon\" \n",
    "WHEN HOUR(BookingSlot) IN (17,18) THEN \"Evening\" \n",
    "WHEN HOUR(BookingSlot) IN (19,20) THEN \"Night\"\n",
    "ELSE \"Time not available\" \n",
    "END AS Arrival_slot\n",
    "FROM Bookings;\"\"\"\n",
    "cursor. execute(create_bookings)\n",
    "results = cursor.fetchall()\n",
    "print(cursor.column_names)\n",
    "for result in results:\n",
    "    print(result)"
   ]
  },
  {
   "cell_type": "code",
   "execution_count": 33,
   "metadata": {},
   "outputs": [
    {
     "name": "stdout",
     "output_type": "stream",
     "text": [
      "The cursor is closed.\n",
      "MySQL connection is closed.\n"
     ]
    }
   ],
   "source": [
    "if connection.is_connected():\n",
    "    cursor.close()\n",
    "    print(\"The cursor is closed.\")\n",
    "    connection.close()\n",
    "    print(\"MySQL connection is closed.\")\n",
    "else:\n",
    "    print(\"Connection is already closed\")"
   ]
  }
 ],
 "metadata": {
  "interpreter": {
   "hash": "31f2aee4e71d21fbe5cf8b01ff0e069b9275f58929596ceb00d14d90e3e16cd6"
  },
  "kernelspec": {
   "display_name": "Python 3.8.10 64-bit",
   "name": "python3"
  },
  "language_info": {
   "codemirror_mode": {
    "name": "ipython",
    "version": 3
   },
   "file_extension": ".py",
   "mimetype": "text/x-python",
   "name": "python",
   "nbconvert_exporter": "python",
   "pygments_lexer": "ipython3",
   "version": "3.8.10"
  }
 },
 "nbformat": 4,
 "nbformat_minor": 4
}
