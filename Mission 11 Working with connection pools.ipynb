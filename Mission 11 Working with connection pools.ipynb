{
 "cells": [
  {
   "attachments": {},
   "cell_type": "markdown",
   "metadata": {},
   "source": [
    "## Mission 11 Working with connection pools"
   ]
  },
  {
   "attachments": {},
   "cell_type": "markdown",
   "metadata": {},
   "source": [
    "## Exercise: \n",
    "\n",
    "Little Lemon’s guests need to access the database for any booking or inquiry, for example, reading the menu. Little Lemon, therefore, needs to establish a connection between the Python and MySQL databases for every operation.  Establishing a connection every time is resource intensive and it is affecting the performance of the Little Lemon application. To improve the performance of the application, Little Lemon needs to establish a pool of database connections to facilitate the guests’ inquiries to the database. "
   ]
  },
  {
   "attachments": {},
   "cell_type": "markdown",
   "metadata": {},
   "source": [
    "#### Task 1\n",
    "\n",
    "Create a database connection pool with three connections available for the users to connect. You need to import MySQLConnectionPool class and pass the following arguments: \n",
    "\n",
    "* pool_name = “ll_pool_a” \n",
    "* pool_size = 3 \n",
    "* **dbconfig \n",
    "##### Steps:\n",
    "* Use the actual name of the database together with authenticated username and password in the above configuration.  \n",
    "* Please use the Error class from `mysql.connector` to handle the possible error in case the wrong parameters are passed on the database configuration.  \n",
    "* Use try-except block from Python to implement the error handling. Once the connection pool is created, use the print statements to display the name of the pool and the number of connections in it.  "
   ]
  },
  {
   "cell_type": "code",
   "execution_count": 3,
   "metadata": {},
   "outputs": [
    {
     "name": "stdout",
     "output_type": "stream",
     "text": [
      "The connection pool is created with a name:  ll_pool_a\n",
      "The pool size is: 3\n"
     ]
    }
   ],
   "source": [
    "#creating connection pool with 3 connections\n",
    "from mysql.connector import Error \n",
    "from mysql.connector.pooling import MySQLConnectionPool\n",
    "\n",
    "try:\n",
    "    pool = MySQLConnectionPool(pool_name =\"ll_pool_a\", pool_size = 3, \n",
    "                            database = \"little_lemon\", user = \"root\", password = \"\")\n",
    "    print(\"The connection pool is created with a name: \", pool.pool_name)\n",
    "    print(\"The pool size is:\",pool.pool_size)\n",
    "\n",
    "except Error as er:\n",
    "    print(\"Error code:\", er.errno)\n",
    "    print(\"Error message:\", er.msg)"
   ]
  },
  {
   "attachments": {},
   "cell_type": "markdown",
   "metadata": {},
   "source": [
    "#### Task 2\n",
    "\n",
    "Get a connection from the database connection pool that you have created in the first task and retrieve the following columns from the `Bookings` table: \n",
    "\n",
    "* `BookingID` \n",
    "* `GuestFirstName` \n",
    "* `GuestLastName` \n",
    "\n",
    "Retrieve the required columns and put the connection back into the pool after you have completed the task. "
   ]
  },
  {
   "cell_type": "code",
   "execution_count": 9,
   "metadata": {},
   "outputs": [
    {
     "name": "stdout",
     "output_type": "stream",
     "text": [
      "Got connection from pool\n",
      "A user with connection id 21 is connected to the database.\n",
      "MySQL server version is: 8.0.30\n",
      "Creating a cursor object.\n",
      "Executing the SQL query.\n",
      "Fetching the query results.\n",
      "Retrieving the column names.\n",
      "Upcoming Bookings are:\n",
      "\n",
      "('BookingId', 'GuestFirstName', 'GuestLastName')\n",
      "(1, 'Anna', 'Iversen')\n",
      "(2, 'Joakim', 'Iversen')\n",
      "(3, 'Vanessa', 'McCarthy')\n",
      "(4, 'Marcos', 'Romero')\n",
      "(5, 'Hiroki', 'Yamane')\n",
      "(6, 'Diana', 'Pinto')\n",
      "The connection is placed back into the pool for the next user to connect.\n"
     ]
    }
   ],
   "source": [
    "# getting a connection from a created pool\n",
    "from mysql.connector.pooling import MySQLConnectionPool\n",
    "pool = MySQLConnectionPool(pool_name =\"ll_pool_a\", pool_size = 3, \n",
    "                            database = \"little_lemon\", user = \"root\", password = \"\")\n",
    "print(\"Got connection from pool\")\n",
    "\n",
    "konnect_a = pool.get_connection()\n",
    "print(\"A user with connection id {} is connected to the database.\".format(\n",
    "    konnect_a.connection_id))\n",
    "\n",
    "db_Info = konnect_a.get_server_info()\n",
    "print(\"MySQL server version is:\", db_Info)\n",
    "cursor = konnect_a.cursor()\n",
    "print(\"Creating a cursor object.\")\n",
    "booking_info = \"SELECT BookingId, GuestFirstName, GuestLastName FROM Bookings;\"\n",
    "\n",
    "print(\"Executing the SQL query.\")\n",
    "cursor.execute( booking_info)\n",
    "\n",
    "results = cursor.fetchall()\n",
    "print(\"Fetching the query results.\")\n",
    "\n",
    "cols = cursor.column_names\n",
    "print(\"Retrieving the column names.\")\n",
    "\n",
    "print(\"\"\"Upcoming Bookings are:\\n\"\"\")\n",
    "print(cols)\n",
    "for result in results:\n",
    "    print(result)\n",
    "    \n",
    "konnect_a.close()\n",
    "print(\"The connection is placed back into the pool for the next user to connect.\")"
   ]
  },
  {
   "attachments": {},
   "cell_type": "markdown",
   "metadata": {},
   "source": [
    "#### Task 3\n",
    "\n",
    "The following five guests want to connect to the database: \n",
    "\n",
    "* guests = [\"Anna\", \"Marcos\", \"Diana\", \"Joakim\", \"Hiroki\"] \n",
    "\n",
    "You only have three connections in the database connection pool. Use the available connection in the `pool` to connect three guests and then add new connections in the pool to connect the remaining two guests. By adding more connection in the pool, make sure that all five guests are connected to the database at the same time.  \n",
    "* Use `add_connection` module from the `pool` and add a new connection if all are in use. Use `try-except` from Python and print the message to inform the user when connected. "
   ]
  },
  {
   "cell_type": "code",
   "execution_count": 20,
   "metadata": {},
   "outputs": [
    {
     "name": "stdout",
     "output_type": "stream",
     "text": [
      "[Anna] is connected.\n",
      "\n",
      "[Marco] is connected.\n",
      "\n",
      "[Diana] is connected.\n",
      "\n",
      "No more connections are available.\n",
      "Adding new connection in the pool.\n",
      "A new connection is added in the pool.\n",
      "\n",
      "[Joakim] is connected.\n",
      "\n",
      "No more connections are available.\n",
      "Adding new connection in the pool.\n",
      "A new connection is added in the pool.\n",
      "\n",
      "[Hiroki] is connected.\n",
      "\n"
     ]
    }
   ],
   "source": [
    "# Adding users to the connection pool\n",
    "from mysql.connector.pooling import MySQLConnectionPool\n",
    "pool = MySQLConnectionPool(pool_name =\"ll_pool_a\", pool_size = 3, \n",
    "                            database = \"little_lemon\", user = \"root\", password = \"\")\n",
    "users = [ \"Anna\", \"Marco\", \"Diana\",\"Joakim\",\"Hiroki\"]\n",
    "import mysql.connector as connector\n",
    "for user in users:\n",
    "    try:\n",
    "        user_connected = pool.get_connection()\n",
    "        print(\"[{}] is connected.\\n\".format(user))\n",
    "        \n",
    "    except:\n",
    "        print(\"No more connections are available.\")\n",
    "        print(\"Adding new connection in the pool.\")\n",
    "        \n",
    "        connection=connector.connect(user=\"root\",password=\"\")\n",
    "        pool.add_connection(cnx=connection)\n",
    "        print(\"A new connection is added in the pool.\\n\")\n",
    "        \n",
    "        user_connected = pool.get_connection()\n",
    "        print(\"[{}] is connected.\\n\".format(user))\n"
   ]
  }
 ],
 "metadata": {
  "interpreter": {
   "hash": "31f2aee4e71d21fbe5cf8b01ff0e069b9275f58929596ceb00d14d90e3e16cd6"
  },
  "kernelspec": {
   "display_name": "Python 3.8.10 64-bit",
   "name": "python3"
  },
  "language_info": {
   "codemirror_mode": {
    "name": "ipython",
    "version": 3
   },
   "file_extension": ".py",
   "mimetype": "text/x-python",
   "name": "python",
   "nbconvert_exporter": "python",
   "pygments_lexer": "ipython3",
   "version": "3.8.10"
  }
 },
 "nbformat": 4,
 "nbformat_minor": 4
}
